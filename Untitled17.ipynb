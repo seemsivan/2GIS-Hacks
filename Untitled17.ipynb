{
  "nbformat": 4,
  "nbformat_minor": 0,
  "metadata": {
    "colab": {
      "name": "Untitled17.ipynb",
      "provenance": [],
      "collapsed_sections": [],
      "include_colab_link": true
    },
    "kernelspec": {
      "name": "python3",
      "display_name": "Python 3"
    }
  },
  "cells": [
    {
      "cell_type": "markdown",
      "metadata": {
        "id": "view-in-github",
        "colab_type": "text"
      },
      "source": [
        "<a href=\"https://colab.research.google.com/github/seemsivan/2GIS-Hacks/blob/master/Untitled17.ipynb\" target=\"_parent\"><img src=\"https://colab.research.google.com/assets/colab-badge.svg\" alt=\"Open In Colab\"/></a>"
      ]
    },
    {
      "cell_type": "code",
      "metadata": {
        "id": "R53dhqPr23i8",
        "colab_type": "code",
        "outputId": "9bcfd856-b02d-4fe1-f06a-821609e858db",
        "colab": {
          "base_uri": "https://localhost:8080/",
          "height": 1000
        }
      },
      "source": [
        "import requests\n",
        "import json\n",
        "request_url = 'https://catalog.api.2gis.ru/pedestrian/4.0.0/moscow?key=rurbbn3446'\n",
        "payload = '{\"locale\":\"ru\",\"point_a_name\":\"Source\",\"point_b_name\":\"Target\",\"points\":[{\"type\":\"pedo\",\"x\":37.679359,\"y\":55.735633,\"object_id\":\"4504235282822322\"},{\"type\":\"pedo\",\"x\":37.651858,\"y\":55.742204,\"object_id\":\"4504385606391048\"}],\"type\":\"pedestrian\",\"purpose\":\"autoSearch\",\"viewport\":{\"topLeft\":{\"x\":37.64981335021378,\"y\":55.74608668955133},\"bottomRight\":{\"x\":37.68140364978621,\"y\":55.729371080302684},\"zoom\":15.460643665584055}}'\n",
        "data = requests.post(url=request_url, data = payload)\n",
        "print(data)\n",
        "#print(json.loads(data.text))\n",
        "response = json.loads(data.text)\n",
        "print(json.dumps(response, indent=4, ensure_ascii=False))\n",
        "\n"
      ],
      "execution_count": 1,
      "outputs": [
        {
          "output_type": "stream",
          "text": [
            "<Response [200]>\n",
            "{\n",
            "    \"query\": {\n",
            "        \"locale\": \"ru\",\n",
            "        \"point_a_name\": \"Source\",\n",
            "        \"point_b_name\": \"Target\",\n",
            "        \"points\": [\n",
            "            {\n",
            "                \"object_id\": \"4504235282822322\",\n",
            "                \"type\": \"pedo\",\n",
            "                \"x\": 37.679359,\n",
            "                \"y\": 55.735633\n",
            "            },\n",
            "            {\n",
            "                \"object_id\": \"4504385606391048\",\n",
            "                \"type\": \"pedo\",\n",
            "                \"x\": 37.651858,\n",
            "                \"y\": 55.742204\n",
            "            }\n",
            "        ],\n",
            "        \"purpose\": \"autoSearch\",\n",
            "        \"type\": \"pedestrian\",\n",
            "        \"viewport\": {\n",
            "            \"bottomRight\": {\n",
            "                \"x\": 37.68140364978621,\n",
            "                \"y\": 55.72937108030268\n",
            "            },\n",
            "            \"topLeft\": {\n",
            "                \"x\": 37.64981335021378,\n",
            "                \"y\": 55.74608668955133\n",
            "            },\n",
            "            \"zoom\": 15.46064366558405\n",
            "        }\n",
            "    },\n",
            "    \"result\": [\n",
            "        {\n",
            "            \"algorithm\": \"по основным улицам\",\n",
            "            \"id\": \"14177277268921978083\",\n",
            "            \"maneuvers\": [\n",
            "                {\n",
            "                    \"comment\": \"Source\",\n",
            "                    \"icon\": \"start\",\n",
            "                    \"id\": \"8278878654923919364\",\n",
            "                    \"outcoming_path\": {\n",
            "                        \"distance\": 2158,\n",
            "                        \"duration\": 1567,\n",
            "                        \"geometry\": [\n",
            "                            {\n",
            "                                \"selection\": \"LINESTRING(37.679359 55.735633, 37.679191 55.735520, 37.678611 55.735722, 37.678762 55.735861, 37.678420 55.736053, 37.678288 55.735978, 37.677690 55.736115, 37.677687 55.736107, 37.677646 55.736087, 37.677617 55.736085, 37.677594 55.736083, 37.677544 55.736096, 37.677516 55.736122, 37.677516 55.736151, 37.677521 55.736155, 37.676784 55.736324, 37.676697 55.736430, 37.676868 55.736543, 37.677008 55.736636, 37.677046 55.736661, 37.677093 55.736645, 37.677160 55.736706, 37.676778 55.736839, 37.676572 55.736911, 37.676218 55.737034, 37.676110 55.737144, 37.675983 55.737243, 37.675857 55.737328, 37.675817 55.737355, 37.675365 55.737592, 37.675084 55.737740, 37.675048 55.737759, 37.674415 55.738093, 37.674170 55.738222, 37.673743 55.738448, 37.673724 55.738457, 37.673666 55.738495, 37.673622 55.738540, 37.673584 55.738615, 37.673612 55.738807, 37.673641 55.738860, 37.673717 55.738908, 37.673784 55.738936, 37.673862 55.738950, 37.674003 55.738956, 37.674103 55.738940, 37.674136 55.739117, 37.674118 55.739118, 37.673980 55.739139, 37.673895 55.739162, 37.673854 55.739184, 37.673823 55.739200, 37.673779 55.739174, 37.673413 55.739190, 37.673395 55.739155, 37.673087 55.739205, 37.673071 55.739184, 37.672005 55.739261, 37.671995 55.739303, 37.671992 55.739316, 37.671929 55.739311, 37.671628 55.739333, 37.671618 55.739289, 37.671473 55.739300, 37.671239 55.739316, 37.670586 55.739364, 37.670204 55.739391, 37.670163 55.739394, 37.669160 55.739467, 37.668743 55.739497, 37.668333 55.739526, 37.667726 55.739570, 37.667422 55.739593, 37.667405 55.739594, 37.667352 55.739598, 37.666950 55.739627, 37.666599 55.739652, 37.665364 55.739742, 37.664937 55.739772, 37.664858 55.739778, 37.664748 55.739786, 37.663899 55.739935, 37.663490 55.740007, 37.662695 55.740146, 37.662388 55.740200, 37.662274 55.740219, 37.662172 55.740241, 37.661906 55.740306, 37.661627 55.740373, 37.661056 55.740513, 37.660970 55.740534, 37.660650 55.740612, 37.660233 55.740714, 37.660127 55.740739, 37.659768 55.740827, 37.659694 55.740846, 37.659629 55.740860, 37.658836 55.741025, 37.658732 55.741047, 37.658728 55.741047, 37.658409 55.741114, 37.657846 55.741231, 37.657886 55.741246, 37.657817 55.741306, 37.657698 55.741262, 37.657438 55.741316, 37.656881 55.741433, 37.656142 55.741586, 37.656092 55.741596, 37.655772 55.741664, 37.655175 55.741810, 37.655052 55.741856, 37.655039 55.741868, 37.654946 55.741835, 37.654621 55.741859, 37.654463 55.741910, 37.653839 55.742109, 37.653619 55.742180, 37.653459 55.742232, 37.653347 55.742204, 37.653255 55.742323, 37.653170 55.742338, 37.653110 55.742367, 37.653115 55.742377, 37.653116 55.742383, 37.653115 55.742387, 37.653108 55.742391, 37.652998 55.742410, 37.652989 55.742413, 37.652983 55.742417, 37.652975 55.742420, 37.652968 55.742420, 37.652956 55.742419, 37.652935 55.742414, 37.652918 55.742414, 37.652903 55.742417, 37.652893 55.742424, 37.652835 55.742499, 37.652593 55.742436, 37.652576 55.742459, 37.652459 55.742430, 37.652477 55.742407, 37.651998 55.742290, 37.651948 55.742278, 37.651919 55.742267, 37.651907 55.742250, 37.651908 55.742225, 37.651912 55.742208, 37.651858 55.742203)\",\n",
            "                                \"zlevel\": \"zlevel-normal\"\n",
            "                            }\n",
            "                        ],\n",
            "                        \"names\": [\n",
            "                            \"Талалихина\"\n",
            "                        ]\n",
            "                    },\n",
            "                    \"outcoming_path_comment\": \"2 км прямо\",\n",
            "                    \"type\": \"begin\"\n",
            "                },\n",
            "                {\n",
            "                    \"comment\": \"Target\",\n",
            "                    \"icon\": \"finish\",\n",
            "                    \"id\": \"7366517296492246888\",\n",
            "                    \"outcoming_path_comment\": \"Вы на месте!\",\n",
            "                    \"type\": \"end\"\n",
            "                }\n",
            "            ],\n",
            "            \"route_id\": \"m5.d1/carrouting/15731944290620.77734\",\n",
            "            \"total_distance\": 2176,\n",
            "            \"total_duration\": 1567,\n",
            "            \"type\": \"pedestrianrouting\",\n",
            "            \"ui_total_distance\": {\n",
            "                \"unit\": \"км\",\n",
            "                \"value\": \"2\"\n",
            "            },\n",
            "            \"ui_total_duration\": \"26 мин\",\n",
            "            \"waypoints\": [\n",
            "                {\n",
            "                    \"original_point\": {\n",
            "                        \"lat\": 55.73552012618262,\n",
            "                        \"lon\": 37.67919205497072\n",
            "                    },\n",
            "                    \"projected_point\": {\n",
            "                        \"lat\": 55.73552012618262,\n",
            "                        \"lon\": 37.67919205497072\n",
            "                    },\n",
            "                    \"transit\": false\n",
            "                },\n",
            "                {\n",
            "                    \"original_point\": {\n",
            "                        \"lat\": 55.74220863379535,\n",
            "                        \"lon\": 37.65191266871111\n",
            "                    },\n",
            "                    \"projected_point\": {\n",
            "                        \"lat\": 55.74220863379535,\n",
            "                        \"lon\": 37.65191266871111\n",
            "                    },\n",
            "                    \"transit\": false\n",
            "                }\n",
            "            ]\n",
            "        }\n",
            "    ],\n",
            "    \"type\": \"result\"\n",
            "}\n"
          ],
          "name": "stdout"
        }
      ]
    },
    {
      "cell_type": "code",
      "metadata": {
        "id": "N2eUtKecJktw",
        "colab_type": "code",
        "outputId": "c935dd37-4847-4fd6-a301-4f14818dcfb8",
        "colab": {
          "base_uri": "https://localhost:8080/",
          "height": 51
        }
      },
      "source": [
        "print(data)\n",
        "response=json.loads(data.text)\n",
        "print(response[\"result\"][0][\"ui_total_duration\"])"
      ],
      "execution_count": 2,
      "outputs": [
        {
          "output_type": "stream",
          "text": [
            "<Response [200]>\n",
            "26 мин\n"
          ],
          "name": "stdout"
        }
      ]
    },
    {
      "cell_type": "code",
      "metadata": {
        "id": "XjLwtwxISh69",
        "colab_type": "code",
        "outputId": "bd53ada8-a231-4ef9-add4-81bd9efd6d6c",
        "colab": {
          "base_uri": "https://localhost:8080/",
          "height": 54
        }
      },
      "source": [
        "def replace_points(lat1: float, lon1: float, lat2: float, lon2: float):\n",
        "    \"\"\"Return duration by public transport in seconds.\"\"\"\n",
        "    request_url = 'https://catalog.api.2gis.ru/pedestrian/4.0.0/moscow?key=rurbbn3446'\n",
        "    payload = '{\"locale\":\"ru\",\"point_a_name\":\"Source\",\"point_b_name\":\"Target\",\"points\":[{\"type\":\"pedo\",\"x\":37.679359,\"y\":55.735633,\"object_id\":\"4504235282822322\"},{\"type\":\"pedo\",\"x\":37.651858,\"y\":55.742204,\"object_id\":\"4504385606391048\"}],\"type\":\"pedestrian\",\"purpose\":\"autoSearch\",\"viewport\":{\"topLeft\":{\"x\":37.64981335021378,\"y\":55.74608668955133},\"bottomRight\":{\"x\":37.68140364978621,\"y\":55.729371080302684},\"zoom\":15.460643665584055}}'\n",
        "    payload = json.loads(payload)\n",
        "    payload[\"points\"][0][\"x\"] = lon1\n",
        "    payload[\"points\"][0][\"y\"] = lat1\n",
        "    payload[\"points\"][1][\"x\"] = lon2\n",
        "    payload[\"points\"][1][\"y\"] = lat2\n",
        "    pl = json.dumps(payload)\n",
        "    return pl\n",
        "print(replace_points(54.213434, 21.313414, 13.312314, 13.213455))\n",
        "#можно убрать object id\n"
      ],
      "execution_count": 0,
      "outputs": [
        {
          "output_type": "stream",
          "text": [
            "{\"locale\": \"ru\", \"point_a_name\": \"Source\", \"point_b_name\": \"Target\", \"points\": [{\"type\": \"pedo\", \"x\": 21.313414, \"y\": 54.213434, \"object_id\": \"4504235282822322\"}, {\"type\": \"pedo\", \"x\": 13.213455, \"y\": 13.312314, \"object_id\": \"4504385606391048\"}], \"type\": \"pedestrian\", \"purpose\": \"autoSearch\", \"viewport\": {\"topLeft\": {\"x\": 37.64981335021378, \"y\": 55.74608668955133}, \"bottomRight\": {\"x\": 37.68140364978621, \"y\": 55.729371080302684}, \"zoom\": 15.460643665584055}}\n"
          ],
          "name": "stdout"
        }
      ]
    },
    {
      "cell_type": "code",
      "metadata": {
        "id": "cXvzfjiBXZIl",
        "colab_type": "code",
        "colab": {
          "base_uri": "https://localhost:8080/",
          "height": 119
        },
        "outputId": "0b63ea23-8013-4fe0-c617-40b9ff476250"
      },
      "source": [
        "import json\n",
        "import requests\n",
        "def get_transport_duration_by_2_points(lat1: float, lon1: float, lat2: float, lon2: float):\n",
        "    \"\"\"Return duration by public transport in seconds.\"\"\"\n",
        "    request_url = 'https://catalog.api.2gis.ru/ctx/2.0/moscow?key=rurbbn3446'\n",
        "    payload = '{\"locale\":\"ru\",\"enable_schedule\":false,\"source\":{\"point\":{\"lon\":37.651858,\"lat\":55.742204},\"name\":\"Source\"},\"target\":{\"point\":{\"lon\":37.679359,\"lat\":55.735633},\"name\":\"Target\"},\"transport\":[\"bus\",\"trolleybus\",\"tram\",\"shuttle_bus\",\"metro\",\"suburban_train\",\"funicular_railway\",\"monorail\",\"river_transport\",\"cable_car\",\"light_rail\",\"premetro\",\"light_metro\",\"aeroexpress\",\"pedestrian\"],\"purpose\":\"routeSearch\",\"viewport\":{\"topLeft\":{\"x\":37.560383619410615,\"y\":55.920570492833114},\"bottomRight\":{\"x\":37.75901538058939,\"y\":55.657765708658154},\"zoom\":10.911147634280821}}'\n",
        "    pl = json.loads(payload)\n",
        "    pl[\"source\"][\"point\"][\"lon\"] = lon1\n",
        "    pl[\"target\"][\"point\"][\"lon\"] = lon2\n",
        "    pl[\"source\"][\"point\"][\"lat\"] = lat1\n",
        "    pl[\"target\"][\"point\"][\"lat\"] = lat2\n",
        "    payload = json.dumps(pl)\n",
        "    data = requests.post(url = request_url, data = payload)\n",
        "    print(data)\n",
        "    response = json.loads(data.text)\n",
        "    return json.dumps(response[0]['total_duration'], ensure_ascii=False) + \"сек\"\n",
        "def get_pedestrian_duration_by_2_points(lat1: float, lon1: float, lat2: float, lon2: float):\n",
        "    \"\"\"Return duration by feet in seconds.\"\"\"\n",
        "    # В этой функции может быть другой url и payload, но принципиальных отличий нет\n",
        "    request_url = 'https://catalog.api.2gis.ru/pedestrian/4.0.0/moscow?key=rurbbn3446'\n",
        "    payload = '{\"locale\":\"ru\",\"point_a_name\":\"Source\",\"point_b_name\":\"Target\",\"points\":[{\"type\":\"pedo\",\"x\":37.651858,\"y\":55.742204,\"object_id\":\"4504385606391048\"},{\"type\":\"pedo\",\"x\":37.679359,\"y\":55.735633,\"object_id\":\"4504235282822322\"}],\"type\":\"pedestrian\",\"purpose\":\"autoSearch\",\"viewport\":{\"topLeft\":{\"x\":37.64908169633543,\"y\":55.75849801823626},\"bottomRight\":{\"x\":37.681454303664566,\"y\":55.71566976315851},\"zoom\":13.52839812792528}}'\n",
        "    payload = json.loads(payload)\n",
        "    payload[\"points\"][0][\"x\"] = lon1\n",
        "    payload[\"points\"][0][\"y\"] = lat1\n",
        "    payload[\"points\"][1][\"x\"] = lon2\n",
        "    payload[\"points\"][1][\"y\"] = lat2\n",
        "    payload = json.dumps(payload)\n",
        "    data = requests.post(url = request_url, data = payload)\n",
        "    print(data)\n",
        "    response = json.loads(data.text)\n",
        "    return json.dumps(response[\"result\"][0][\"total_duration\"], ensure_ascii = False) + \"сек\"\n",
        "def get_pedestrian_length_by_2_points(lat1: float, lon1: float, lat2: float, lon2: float):\n",
        "    \"\"\"Return length by feet transport in kilometers.\"\"\"\n",
        "    # В этой функции может быть другой url и payload, но принципиальных отличий нет\n",
        "    # В этой функции может быть другой url и payload, но принципиальных отличий нет\n",
        "    request_url = 'https://catalog.api.2gis.ru/pedestrian/4.0.0/moscow?key=rurbbn3446'\n",
        "    payload = '{\"locale\":\"ru\",\"point_a_name\":\"Source\",\"point_b_name\":\"Target\",\"points\":[{\"type\":\"pedo\",\"x\":37.651858,\"y\":55.742204,\"object_id\":\"4504385606391048\"},{\"type\":\"pedo\",\"x\":37.679359,\"y\":55.735633,\"object_id\":\"4504235282822322\"}],\"type\":\"pedestrian\",\"purpose\":\"autoSearch\",\"viewport\":{\"topLeft\":{\"x\":37.64908169633543,\"y\":55.75849801823626},\"bottomRight\":{\"x\":37.681454303664566,\"y\":55.71566976315851},\"zoom\":13.52839812792528}}'\n",
        "    payload = json.loads(payload)\n",
        "    payload[\"points\"][0][\"x\"] = lon1\n",
        "    payload[\"points\"][0][\"y\"] = lat1\n",
        "    payload[\"points\"][1][\"x\"] = lon2\n",
        "    payload[\"points\"][1][\"y\"] = lat2\n",
        "    payload = json.dumps(payload)\n",
        "    data = requests.post(url = request_url, data = payload)\n",
        "    print(data)\n",
        "    response = json.loads(data.text)\n",
        "    return json.dumps(response[\"result\"][0][\"total_distance\"], ensure_ascii = False ) + \"м\"\n",
        "\n",
        "print(get_pedestrian_length_by_2_points(55.723158, 37.564597, 55.788798, 37.680701))\n",
        "print(get_pedestrian_duration_by_2_points(55.723158, 37.564597, 55.788798, 37.680701))\n",
        "print(get_transport_duration_by_2_points(55.723158, 37.564597, 55.788798, 37.680701))"
      ],
      "execution_count": 34,
      "outputs": [
        {
          "output_type": "stream",
          "text": [
            "<Response [200]>\n",
            "11943м\n",
            "<Response [200]>\n",
            "8599сек\n",
            "<Response [200]>\n",
            "1337сек\n"
          ],
          "name": "stdout"
        }
      ]
    }
  ]
}